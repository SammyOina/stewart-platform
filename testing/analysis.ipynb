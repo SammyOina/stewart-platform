{
 "cells": [
  {
   "cell_type": "code",
   "execution_count": 2,
   "metadata": {},
   "outputs": [],
   "source": [
    "import numpy as np"
   ]
  },
  {
   "cell_type": "code",
   "execution_count": 3,
   "metadata": {},
   "outputs": [],
   "source": [
    "file = \"../HMI/files/14-12-2022_13-18/forces-moments.csv\"\n",
    "arr = np.loadtxt(file, delimiter=\",\",dtype=str)"
   ]
  },
  {
   "cell_type": "code",
   "execution_count": 14,
   "metadata": {},
   "outputs": [],
   "source": [
    "Fzs = arr[:,3]\n",
    "Fz= Fzs.astype(np.float)\n",
    "FzAvg = np.average(Fz)\n",
    "Fys = arr[:,2]\n",
    "Fy = Fys.astype(np.float)\n",
    "FyAvg = np.average(Fy)\n",
    "Area = 0.5\n",
    "V = 1.1"
   ]
  },
  {
   "cell_type": "code",
   "execution_count": 15,
   "metadata": {},
   "outputs": [],
   "source": [
    "Cl = FzAvg / (0.5 * Area * pow(V,2))\n",
    "Cd = FyAvg / (0.5 * Area * pow(V,2))"
   ]
  },
  {
   "cell_type": "code",
   "execution_count": 16,
   "metadata": {},
   "outputs": [
    {
     "name": "stdout",
     "output_type": "stream",
     "text": [
      "1.0\n"
     ]
    }
   ],
   "source": []
  },
  {
   "cell_type": "code",
   "execution_count": null,
   "metadata": {},
   "outputs": [],
   "source": []
  }
 ],
 "metadata": {
  "kernelspec": {
   "display_name": "Python 3",
   "language": "python",
   "name": "python3"
  },
  "language_info": {
   "codemirror_mode": {
    "name": "ipython",
    "version": 3
   },
   "file_extension": ".py",
   "mimetype": "text/x-python",
   "name": "python",
   "nbconvert_exporter": "python",
   "pygments_lexer": "ipython3",
   "version": "3.7.6"
  },
  "orig_nbformat": 4,
  "vscode": {
   "interpreter": {
    "hash": "91e8468322eb66efbff93d4d73292261103b95d1b5c7c30f7fb18f6b1691b4c6"
   }
  }
 },
 "nbformat": 4,
 "nbformat_minor": 2
}
